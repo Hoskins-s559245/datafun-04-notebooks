{
 "cells": [
  {
   "cell_type": "markdown",
   "metadata": {},
   "source": [
    "#Student Name: Ash Hoskins, Student #S559245\n",
    "#Course: CSIS 44-609 - Data Analytics Fundamentals\n",
    "#Professor Denise Case\n",
    "#Domain: Geospatial data\n",
    "#Module 4: Task Xtra"
   ]
  },
  {
   "cell_type": "code",
   "execution_count": 47,
   "metadata": {},
   "outputs": [],
   "source": [
    "#Library Import\n",
    "import pandas as pd\n",
    "import re"
   ]
  },
  {
   "cell_type": "code",
   "execution_count": 48,
   "metadata": {},
   "outputs": [],
   "source": [
    "#Create a list of contact information. Name, Email Phone\n",
    "contacts = [['Ash Hoskins', 'S559245@nwms.edu', '3145559123'], ['Jim Jackson', 'Jackson@nwms.edu', '3144449999'], ['Sue Brown', 'demo2@deitel.com', '3145550000']]"
   ]
  },
  {
   "cell_type": "code",
   "execution_count": 49,
   "metadata": {},
   "outputs": [],
   "source": [
    "#Create dataframe of contact list, break out columns.\n",
    "df = pd.DataFrame(contacts, columns = ['Name', 'Email', 'Phone'])"
   ]
  },
  {
   "cell_type": "code",
   "execution_count": 50,
   "metadata": {},
   "outputs": [
    {
     "data": {
      "text/html": [
       "<div>\n",
       "<style scoped>\n",
       "    .dataframe tbody tr th:only-of-type {\n",
       "        vertical-align: middle;\n",
       "    }\n",
       "\n",
       "    .dataframe tbody tr th {\n",
       "        vertical-align: top;\n",
       "    }\n",
       "\n",
       "    .dataframe thead th {\n",
       "        text-align: right;\n",
       "    }\n",
       "</style>\n",
       "<table border=\"1\" class=\"dataframe\">\n",
       "  <thead>\n",
       "    <tr style=\"text-align: right;\">\n",
       "      <th></th>\n",
       "      <th>Name</th>\n",
       "      <th>Email</th>\n",
       "      <th>Phone</th>\n",
       "    </tr>\n",
       "  </thead>\n",
       "  <tbody>\n",
       "    <tr>\n",
       "      <th>0</th>\n",
       "      <td>Ash Hoskins</td>\n",
       "      <td>S559245@nwms.edu</td>\n",
       "      <td>3145559123</td>\n",
       "    </tr>\n",
       "    <tr>\n",
       "      <th>1</th>\n",
       "      <td>Jim Jackson</td>\n",
       "      <td>Jackson@nwms.edu</td>\n",
       "      <td>3144449999</td>\n",
       "    </tr>\n",
       "    <tr>\n",
       "      <th>2</th>\n",
       "      <td>Sue Brown</td>\n",
       "      <td>demo2@deitel.com</td>\n",
       "      <td>3145550000</td>\n",
       "    </tr>\n",
       "  </tbody>\n",
       "</table>\n",
       "</div>"
      ],
      "text/plain": [
       "          Name             Email       Phone\n",
       "0  Ash Hoskins  S559245@nwms.edu  3145559123\n",
       "1  Jim Jackson  Jackson@nwms.edu  3144449999\n",
       "2    Sue Brown  demo2@deitel.com  3145550000"
      ]
     },
     "execution_count": 50,
     "metadata": {},
     "output_type": "execute_result"
    }
   ],
   "source": [
    "#Display results of dataframe\n",
    "df"
   ]
  },
  {
   "cell_type": "code",
   "execution_count": 51,
   "metadata": {},
   "outputs": [],
   "source": [
    "#Function used for mapping phone number column to match inputs with a specific class then uses join to modify the columns data.\n",
    "def formated_phone(number):\n",
    "    format = re.fullmatch(r'(\\d{3})(\\d{3})(\\d{4})', number)\n",
    "    return '-'.join(format.groups()) if format else number"
   ]
  },
  {
   "cell_type": "code",
   "execution_count": 52,
   "metadata": {},
   "outputs": [],
   "source": [
    "#creates a new dataframe with the phone column from the original dataframe mapped to the format function\n",
    "new_contacts = df['Phone'].map(formated_phone)"
   ]
  },
  {
   "cell_type": "code",
   "execution_count": 53,
   "metadata": {},
   "outputs": [
    {
     "data": {
      "text/plain": [
       "0    314-555-9123\n",
       "1    314-444-9999\n",
       "2    314-555-0000\n",
       "Name: Phone, dtype: object"
      ]
     },
     "execution_count": 53,
     "metadata": {},
     "output_type": "execute_result"
    }
   ],
   "source": [
    "#displayes formatted df\n",
    "new_contacts"
   ]
  },
  {
   "cell_type": "code",
   "execution_count": 54,
   "metadata": {},
   "outputs": [],
   "source": [
    "#Replaces existing data in df contacts with formatted data.\n",
    "df['Phone'] = new_contacts"
   ]
  },
  {
   "cell_type": "code",
   "execution_count": 55,
   "metadata": {},
   "outputs": [
    {
     "data": {
      "text/html": [
       "<div>\n",
       "<style scoped>\n",
       "    .dataframe tbody tr th:only-of-type {\n",
       "        vertical-align: middle;\n",
       "    }\n",
       "\n",
       "    .dataframe tbody tr th {\n",
       "        vertical-align: top;\n",
       "    }\n",
       "\n",
       "    .dataframe thead th {\n",
       "        text-align: right;\n",
       "    }\n",
       "</style>\n",
       "<table border=\"1\" class=\"dataframe\">\n",
       "  <thead>\n",
       "    <tr style=\"text-align: right;\">\n",
       "      <th></th>\n",
       "      <th>Name</th>\n",
       "      <th>Email</th>\n",
       "      <th>Phone</th>\n",
       "    </tr>\n",
       "  </thead>\n",
       "  <tbody>\n",
       "    <tr>\n",
       "      <th>0</th>\n",
       "      <td>Ash Hoskins</td>\n",
       "      <td>S559245@nwms.edu</td>\n",
       "      <td>314-555-9123</td>\n",
       "    </tr>\n",
       "    <tr>\n",
       "      <th>1</th>\n",
       "      <td>Jim Jackson</td>\n",
       "      <td>Jackson@nwms.edu</td>\n",
       "      <td>314-444-9999</td>\n",
       "    </tr>\n",
       "    <tr>\n",
       "      <th>2</th>\n",
       "      <td>Sue Brown</td>\n",
       "      <td>demo2@deitel.com</td>\n",
       "      <td>314-555-0000</td>\n",
       "    </tr>\n",
       "  </tbody>\n",
       "</table>\n",
       "</div>"
      ],
      "text/plain": [
       "          Name             Email         Phone\n",
       "0  Ash Hoskins  S559245@nwms.edu  314-555-9123\n",
       "1  Jim Jackson  Jackson@nwms.edu  314-444-9999\n",
       "2    Sue Brown  demo2@deitel.com  314-555-0000"
      ]
     },
     "execution_count": 55,
     "metadata": {},
     "output_type": "execute_result"
    }
   ],
   "source": [
    "#Displays final results\n",
    "df"
   ]
  }
 ],
 "metadata": {
  "kernelspec": {
   "display_name": "Python 3 (ipykernel)",
   "language": "python",
   "name": "python3"
  },
  "language_info": {
   "codemirror_mode": {
    "name": "ipython",
    "version": 3
   },
   "file_extension": ".py",
   "mimetype": "text/x-python",
   "name": "python",
   "nbconvert_exporter": "python",
   "pygments_lexer": "ipython3",
   "version": "3.10.8"
  },
  "vscode": {
   "interpreter": {
    "hash": "e650c6bab76934ae78d8bec2fe13bdfe0ac8f6f97dab581f7266564add589954"
   }
  }
 },
 "nbformat": 4,
 "nbformat_minor": 4
}
