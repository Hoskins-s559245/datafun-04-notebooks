{
 "cells": [
  {
   "cell_type": "code",
   "execution_count": 2,
   "id": "bb4f6f06-8ac6-4b1d-8c34-abded821e753",
   "metadata": {},
   "outputs": [
    {
     "name": "stdout",
     "output_type": "stream",
     "text": [
      "263.1135826818917\n"
     ]
    }
   ],
   "source": [
    "#Pandas and Geopy practice, not for assignment. \n",
    "\n",
    "#Importing the required modules\n",
    "import pandas as pd\n",
    "import geopy.distance as dist\n",
    "from geopy.geocoders import Nominatim\n",
    "from geopy.extra.rate_limiter import RateLimiter\n",
    " \n",
    "#Creating a dataframe with address of locations we want to reterive\n",
    "locat = ['Saint Louis, Missouri' , 'Chicago, Illinois',\\\n",
    "         'Columbus, Ohio' , 'Pittsburgh, Pensylvania','Seattle, Washington']\n",
    "df = pd.DataFrame({'add': locat})\n",
    " \n",
    "#Creating an instance of Nominatim Class\n",
    "geolocator = Nominatim(user_agent=\"my_request\")\n",
    " \n",
    "#applying the rate limiter wrapper\n",
    "geocode = RateLimiter(geolocator.geocode, min_delay_seconds=1)\n",
    " \n",
    "#Applying the method to pandas DataFrame\n",
    "df['location'] = df['add'].apply(geocode)\n",
    "df['Lat'] = df['location'].apply(lambda x: x.latitude if x else None)\n",
    "df['Lon'] = df['location'].apply(lambda x: x.longitude if x else None)\n",
    "\n",
    "\n",
    "coord1 = (df.iloc[0]['Lat'], df.iloc[0]['Lon'])\n",
    "coord2 = (df.iloc[1]['Lat'], df.iloc[1]['Lon'])\n",
    "\n",
    "print(dist.geodesic(coord1, coord2).miles)\n"
   ]
  }
 ],
 "metadata": {
  "kernelspec": {
   "display_name": "base",
   "language": "python",
   "name": "python3"
  },
  "language_info": {
   "codemirror_mode": {
    "name": "ipython",
    "version": 3
   },
   "file_extension": ".py",
   "mimetype": "text/x-python",
   "name": "python",
   "nbconvert_exporter": "python",
   "pygments_lexer": "ipython3",
   "version": "3.10.8 | packaged by conda-forge | (main, Nov 24 2022, 14:07:00) [MSC v.1916 64 bit (AMD64)]"
  },
  "vscode": {
   "interpreter": {
    "hash": "e650c6bab76934ae78d8bec2fe13bdfe0ac8f6f97dab581f7266564add589954"
   }
  }
 },
 "nbformat": 4,
 "nbformat_minor": 5
}
