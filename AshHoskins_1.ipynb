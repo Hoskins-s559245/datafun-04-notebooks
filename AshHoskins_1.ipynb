{
 "cells": [
  {
   "cell_type": "markdown",
   "id": "20711e99-36dc-47eb-b17f-1ab775043f1b",
   "metadata": {},
   "source": []
  },
  {
   "attachments": {},
   "cell_type": "markdown",
   "id": "ee7c6d5f",
   "metadata": {},
   "source": [
    "#Student Name: Ash Hoskins, Student #S559245\n",
    "#Course: CSIS 44-609 - Data Analytics Fundamentals\n",
    "#Professor Denise Case\n",
    "#Domain: Geospatial data\n",
    "#Module 4: Task 1.\n"
   ]
  },
  {
   "attachments": {},
   "cell_type": "markdown",
   "id": "5d225007",
   "metadata": {},
   "source": [
    "## Task 1 - Series"
   ]
  },
  {
   "cell_type": "code",
   "execution_count": 76,
   "id": "ec0e6cda",
   "metadata": {},
   "outputs": [],
   "source": [
    "import pandas as pd"
   ]
  },
  {
   "cell_type": "code",
   "execution_count": 77,
   "id": "afb8ac6b",
   "metadata": {},
   "outputs": [
    {
     "data": {
      "text/plain": [
       "87"
      ]
     },
     "execution_count": 77,
     "metadata": {},
     "output_type": "execute_result"
    }
   ],
   "source": [
    "grades = pd.Series([87,100,94])\n",
    "grades[0]"
   ]
  },
  {
   "cell_type": "code",
   "execution_count": 78,
   "id": "cc1f91c7",
   "metadata": {},
   "outputs": [
    {
     "data": {
      "text/plain": [
       "count      3.000000\n",
       "mean      93.666667\n",
       "std        6.506407\n",
       "min       87.000000\n",
       "25%       90.500000\n",
       "50%       94.000000\n",
       "75%       97.000000\n",
       "max      100.000000\n",
       "dtype: float64"
      ]
     },
     "execution_count": 78,
     "metadata": {},
     "output_type": "execute_result"
    }
   ],
   "source": [
    "grades.count()\n",
    "grades.mean()\n",
    "grades.min()\n",
    "grades.max()\n",
    "grades.std()\n",
    "grades.describe()"
   ]
  },
  {
   "attachments": {},
   "cell_type": "markdown",
   "id": "b3e7bf11",
   "metadata": {},
   "source": [
    "## Task 2 - Series from Dictionary"
   ]
  },
  {
   "cell_type": "code",
   "execution_count": 79,
   "id": "8cc79057",
   "metadata": {},
   "outputs": [
    {
     "data": {
      "text/plain": [
       "Wally     87\n",
       "Eva      100\n",
       "Sam       94\n",
       "dtype: int64"
      ]
     },
     "execution_count": 79,
     "metadata": {},
     "output_type": "execute_result"
    }
   ],
   "source": [
    "grades = pd.Series({'Wally': 87, 'Eva': 100, 'Sam': 94})\n",
    "grades"
   ]
  },
  {
   "cell_type": "code",
   "execution_count": 80,
   "id": "7381cbb2",
   "metadata": {},
   "outputs": [
    {
     "data": {
      "text/plain": [
       "100"
      ]
     },
     "execution_count": 80,
     "metadata": {},
     "output_type": "execute_result"
    }
   ],
   "source": [
    "grades['Eva'] #Capitalization matters"
   ]
  },
  {
   "cell_type": "code",
   "execution_count": 81,
   "id": "e0ca4b28",
   "metadata": {},
   "outputs": [
    {
     "data": {
      "text/plain": [
       "87"
      ]
     },
     "execution_count": 81,
     "metadata": {},
     "output_type": "execute_result"
    }
   ],
   "source": [
    "grades.Wally #nice"
   ]
  },
  {
   "cell_type": "code",
   "execution_count": 82,
   "id": "6c424593",
   "metadata": {},
   "outputs": [
    {
     "data": {
      "text/plain": [
       "array([ 87, 100,  94], dtype=int64)"
      ]
     },
     "execution_count": 82,
     "metadata": {},
     "output_type": "execute_result"
    }
   ],
   "source": [
    "grades.values"
   ]
  },
  {
   "attachments": {},
   "cell_type": "markdown",
   "id": "b7b0420e",
   "metadata": {},
   "source": [
    "## Task 2 - Series from Dictionary - Self Check for Page 266"
   ]
  },
  {
   "cell_type": "code",
   "execution_count": 83,
   "id": "b48c8483",
   "metadata": {},
   "outputs": [],
   "source": [
    "import numpy as np"
   ]
  },
  {
   "cell_type": "code",
   "execution_count": 84,
   "id": "cb69242a",
   "metadata": {},
   "outputs": [
    {
     "data": {
      "text/plain": [
       "0    88\n",
       "1    81\n",
       "2    95\n",
       "3    84\n",
       "4    95\n",
       "5    92\n",
       "dtype: int32"
      ]
     },
     "execution_count": 84,
     "metadata": {},
     "output_type": "execute_result"
    }
   ],
   "source": [
    "temps = pd.Series(np.random.randint(60, 101, 6))\n",
    "temps"
   ]
  },
  {
   "cell_type": "code",
   "execution_count": 85,
   "id": "0ce254ed",
   "metadata": {},
   "outputs": [
    {
     "data": {
      "text/plain": [
       "count     6.000000\n",
       "mean     89.166667\n",
       "std       5.845226\n",
       "min      81.000000\n",
       "25%      85.000000\n",
       "50%      90.000000\n",
       "75%      94.250000\n",
       "max      95.000000\n",
       "dtype: float64"
      ]
     },
     "execution_count": 85,
     "metadata": {},
     "output_type": "execute_result"
    }
   ],
   "source": [
    "temps.count()\n",
    "temps.min()\n",
    "temps.max()\n",
    "temps.mean()\n",
    "temps.describe()"
   ]
  }
 ],
 "metadata": {
  "kernelspec": {
   "display_name": "base",
   "language": "python",
   "name": "python3"
  },
  "language_info": {
   "codemirror_mode": {
    "name": "ipython",
    "version": 3
   },
   "file_extension": ".py",
   "mimetype": "text/x-python",
   "name": "python",
   "nbconvert_exporter": "python",
   "pygments_lexer": "ipython3",
   "version": "3.10.8"
  },
  "vscode": {
   "interpreter": {
    "hash": "e650c6bab76934ae78d8bec2fe13bdfe0ac8f6f97dab581f7266564add589954"
   }
  }
 },
 "nbformat": 4,
 "nbformat_minor": 5
}
